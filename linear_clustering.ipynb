{
 "cells": [
  {
   "cell_type": "markdown",
   "metadata": {},
   "source": [
    "### Exploring Sample - Param Correlation with Linear Models "
   ]
  },
  {
   "cell_type": "code",
   "execution_count": 1,
   "metadata": {},
   "outputs": [],
   "source": [
    "# GOAL : Design a synthetic experiment where there is an explicit link between a weight partition and a data partition"
   ]
  },
  {
   "cell_type": "markdown",
   "metadata": {},
   "source": [
    "Let's generate $N$ examples from $y = x^T\\theta_A$ with $x \\sim \\mathcal{N}(0, I) \\in \\mathbb{R}^D$ and write the set $ \\{ (x_1, y_1), ... (x_N, y_N) \\} $ as a design matrix $A \\in \\mathbb{R}^{N x D}$"
   ]
  },
  {
   "cell_type": "markdown",
   "metadata": {},
   "source": [
    "Let's do the same thing with a new vector $\\theta_B$ (the reste being the same) and generate the set $B \\in \\mathbb{R}^{N x D}$"
   ]
  },
  {
   "cell_type": "markdown",
   "metadata": {},
   "source": [
    "We want the output for each example to depend only on a subset of weights, and to be invariant to the rest. To mimic this, we can add random features to each matrix : \n",
    "$$\n",
    "A := [A^T, N_a^T]^T\\in \\mathbb{R}^{N x 2D} \\\\\n",
    "B := [N_b^T, B^T]^T \\in \\mathbb{R}^{N x 2D}\n",
    "$$\n",
    "\n",
    "if we concat both datasets we get $[A,B] \\in \\mathbb{R}^{2N x 2D}$. "
   ]
  },
  {
   "cell_type": "markdown",
   "metadata": {},
   "source": [
    "#### Q : can we use gradient information to cluster the parameters $\\hat{\\theta} \\in \\mathbb{R}^{2D}$ such that we get back the partition of A and B ?"
   ]
  },
  {
   "cell_type": "code",
   "execution_count": 1,
   "metadata": {},
   "outputs": [],
   "source": [
    "import numpy as np\n",
    "from sklearn.cluster import KMeans"
   ]
  },
  {
   "cell_type": "code",
   "execution_count": 865,
   "metadata": {},
   "outputs": [],
   "source": [
    "# set constant values\n",
    "N = 50000   # number of datapoints \n",
    "D = 8       # number of features"
   ]
  },
  {
   "cell_type": "code",
   "execution_count": 866,
   "metadata": {},
   "outputs": [],
   "source": [
    "\"\"\" method to generate data \"\"\"\n",
    "\n",
    "def gen_dataset(mu_x=0, std_x=1, mu_ts_a=0, mu_ts_b=0):\n",
    "    \n",
    "    # scale = 1/mu_x if abs(mu_x) >= 1 else 1\n",
    "    X  = np.random.normal(size=(2*N, 2*D), loc=mu_x) #, scale=scale)\n",
    "    \n",
    "    theta_A = np.random.normal(size=(D,), loc=mu_ts_a)\n",
    "    theta_B = np.random.normal(size=(D,), loc=mu_ts_b)\n",
    "    \n",
    "    y1 = X[:N, :D].dot(theta_A)\n",
    "    y2 = X[N:, D:].dot(theta_B)\n",
    "    y  = np.concatenate((y1, y2))\n",
    "    \n",
    "    return {'X' : X, 'y': y, 'theta_A': theta_A, 'theta_B': theta_B}"
   ]
  },
  {
   "cell_type": "code",
   "execution_count": 867,
   "metadata": {},
   "outputs": [],
   "source": [
    "\"\"\" methods related to Linear Regression \"\"\"\n",
    "\n",
    "def per_sample_gradient(X, y, theta):\n",
    "    N, D = X.shape\n",
    "    assert y.shape == (N,)\n",
    "    assert theta.shape == (D,)\n",
    "    \n",
    "    # we want a num_samples x D matrix\n",
    "    # for a single point (x [D x 1], y [1 x 1]) the gradient is prop. to (-y x  +   xT \\theta x)\n",
    "    # we tile this up and get the following eqn\n",
    "    return -y.reshape(N, 1) * X + X.dot(theta.reshape(D, 1)) * X\n",
    "\n",
    "def full_gradient(X, y, theta):\n",
    "    N, D = X.shape\n",
    "    assert y.shape == (N,)\n",
    "    assert theta.shape == (D,)\n",
    "    \n",
    "    return -y.T.dot(X) + theta.T.dot(X.T).dot(X)"
   ]
  },
  {
   "cell_type": "code",
   "execution_count": 868,
   "metadata": {},
   "outputs": [],
   "source": [
    "# make sure our gradient is ok \n",
    "for _ in range(5):\n",
    "   \n",
    "    # data \n",
    "    dataset = gen_dataset()\n",
    "    \n",
    "    theta_init = np.random.normal(size=(2 * D,))\n",
    "    per_sample_grads = per_sample_gradient(dataset['X'], dataset['y'], theta_init)\n",
    "    grads = full_gradient(dataset['X'], dataset['y'], theta_init)\n",
    "\n",
    "    assert np.allclose(per_sample_grads.sum(0), grads)"
   ]
  },
  {
   "cell_type": "markdown",
   "metadata": {},
   "source": [
    "### Let's compute some gradients :) "
   ]
  },
  {
   "cell_type": "markdown",
   "metadata": {},
   "source": [
    "We want to build a $2N \\times 2D$ Matrix $M$ with M[i,j] corresponds to the gradient of the $j$-th features in the $i$-th example. We can then interpret each of the $2D$ rows as a features for each parameter. The next question is whether or not these features are useful enough to recover the original $A-B$ split should we cluster over these features. "
   ]
  },
  {
   "cell_type": "code",
   "execution_count": 870,
   "metadata": {},
   "outputs": [],
   "source": [
    "def trial(**kwargs): \n",
    "    \n",
    "    # generate some data \n",
    "    dataset = gen_dataset(**kwargs)\n",
    "    \n",
    "    # init weights \n",
    "    theta_hat = np.random.normal(size=(2 * D,))\n",
    "    \n",
    "    # our 2N x 2D matrix\n",
    "    M_grad = per_sample_gradient(dataset['X'], dataset['y'], theta_hat)\n",
    "    \n",
    "    # cluster labels\n",
    "    # SCALE GRADS ?\n",
    "    # M_grad = M_grad / np.abs(M_grad).max()\n",
    "    \n",
    "    km    = KMeans(n_clusters=2).fit(M_grad.T)\n",
    "    label = km.labels_ # (2D,) vector\n",
    "    clusters = km.cluster_centers_\n",
    "    \n",
    "    # Hacky way to compute cluster accuracy \n",
    "    label_A, label_B = int(label[:D].mean() + 0.5), int(label[D:].mean() + 0.5)\n",
    "    \n",
    "    if label_A == label_B : \n",
    "        acc = 0 \n",
    "    else:\n",
    "        acc = (np.sum(label[:D] == label_A) + np.sum(label[D:] == label_B)) / (2*D)\n",
    "    \n",
    "    return {'cluster_acc': acc, 'label': label, 'M_grad': M_grad, 'dataset': dataset, 'clusters': clusters}"
   ]
  },
  {
   "cell_type": "markdown",
   "metadata": {},
   "source": [
    "## Reproducing the plots from Yesterday"
   ]
  },
  {
   "cell_type": "markdown",
   "metadata": {},
   "source": [
    "Starting with zero-centered features"
   ]
  },
  {
   "cell_type": "code",
   "execution_count": 875,
   "metadata": {},
   "outputs": [],
   "source": [
    "import matplotlib.pyplot as plt\n",
    "\n",
    "def show(results, mu_x):\n",
    "    # build a 2D matrix from the results\n",
    "    mat = np.zeros((10, 10))\n",
    "\n",
    "    for k, v in results.items():\n",
    "        mu_a, mu_b = [int(x) for x in k.split('_')]\n",
    "        mat[mu_a + 5, mu_b + 5] = v.mean()\n",
    "\n",
    "    plt.imshow(mat, interpolation='nearest')\n",
    "    plt.colorbar()\n",
    "    plt.xticks(ticks=np.arange(10), labels=[str(x) for x in range(-5, 5)])\n",
    "    plt.yticks(ticks=np.arange(10), labels=[str(x) for x in range(-5, 5)])\n",
    "    plt.xlabel('mean theta A')\n",
    "    plt.ylabel('mean theta B')\n",
    "    plt.title(f'Cluster Accuracy. X ~ N({mu_x},1)')\n",
    "    plt.show()"
   ]
  },
  {
   "cell_type": "code",
   "execution_count": 876,
   "metadata": {},
   "outputs": [
    {
     "data": {
      "image/png": "[encoded data removed]",
      "text/plain": [
       "<Figure size 432x288 with 2 Axes>"
      ]
     },
     "metadata": {
      "needs_background": "light"
     },
     "output_type": "display_data"
    }
   ],
   "source": [
    "results_0 = {}\n",
    "trials_per_cfg = 5\n",
    "\n",
    "for mu_a in range(-5, 5):\n",
    "    for mu_b in range(-5, 5):\n",
    "        \n",
    "        cfg = {'mu_ts_a' : mu_a, 'mu_ts_b' : mu_b, 'mu_x': 0}\n",
    "        \n",
    "        cluster_acc = []\n",
    "        for _ in range(trials_per_cfg):\n",
    "            cluster_acc += [trial(**cfg)['cluster_acc']]\n",
    "        \n",
    "        cluster_acc = np.array(cluster_acc)\n",
    "        \n",
    "        results_0[f'{mu_a}_{mu_b}'] = cluster_acc\n",
    "        \n",
    "show(results_0, mu_x=0)"
   ]
  },
  {
   "cell_type": "markdown",
   "metadata": {},
   "source": [
    "##### Now trying with features centered around 3"
   ]
  },
  {
   "cell_type": "code",
   "execution_count": 877,
   "metadata": {},
   "outputs": [
    {
     "data": {
      "image/png": "[encoded data removed]",
      "text/plain": [
       "<Figure size 432x288 with 2 Axes>"
      ]
     },
     "metadata": {
      "needs_background": "light"
     },
     "output_type": "display_data"
    }
   ],
   "source": [
    "results_3 = {}\n",
    "trials_per_cfg = 5\n",
    "\n",
    "for mu_a in range(-5, 5):\n",
    "    for mu_b in range(-5, 5):\n",
    "        \n",
    "        cfg = {'mu_ts_a' : mu_a, 'mu_ts_b' : mu_b, 'mu_x': 3}\n",
    "        \n",
    "        cluster_acc = []\n",
    "        for _ in range(trials_per_cfg):\n",
    "            cluster_acc += [trial(**cfg)['cluster_acc']]\n",
    "        \n",
    "        cluster_acc = np.array(cluster_acc)\n",
    "        \n",
    "        results_3[f'{mu_a}_{mu_b}'] = cluster_acc\n",
    "        \n",
    "show(results_3, mu_x=3)"
   ]
  },
  {
   "cell_type": "markdown",
   "metadata": {},
   "source": [
    "## Discussion : \n",
    "Accuracy is much lower now that the features are generated differently. Let's investigate a bit; I want to know a) how easy the features are to cluster and b) how far off are the cluster means we got from k-means from the average gradient (over points). \n",
    "\n",
    "To do this, I will reshape our gradient matrix $M \\in \\mathbb{R}^{2N x 2D}$ in 4 $N x D$ matrices (so shape (2, 2, D)). Such that $M[0,0]$ and $M[1, 1]$ represent $A, \\theta_a$ and $B, \\theta_b$ respectively (i.e. the points with the features used to produce the label). We also have $M[0, 1]$ and $M[1, 0]$ which index $A, \\theta_b$ and $B, \\theta_a$ i.e points and their set of unused features"
   ]
  },
  {
   "cell_type": "code",
   "execution_count": 903,
   "metadata": {},
   "outputs": [],
   "source": [
    "\"\"\" Helpers to look summarize some gradient info \"\"\"\n",
    "\n",
    "np.set_printoptions(precision=2)\n",
    "\n",
    "def show_grad(M):\n",
    "    # M : 2N x 2D grad matrix \n",
    "    \n",
    "    # splits the grad in 4 regions, M[:N,:D] and M[N:,D:] whose features are used for the labels\n",
    "    # and the other 2 regions whose features are the added noise\n",
    "    \n",
    "    grad = np.zeros((2, 2, D))\n",
    "    grad[0, 0] = M[:N, :D].mean(0)\n",
    "    grad[1, 1] = M[N:, D:].mean(0)\n",
    "    \n",
    "    grad[0, 1] = M[:N, D:].mean(0)\n",
    "    grad[1, 0] = M[N:, :D].mean(0)\n",
    "    \n",
    "    # 1st col of grad (grad[:, 0]) --> features used in A\n",
    "    # 2nd col of grad (grad[:, 1]) --> feautres used in B\n",
    "    \n",
    "    # 1st row (grad[0]) --> features for first N points\n",
    "    # 2nd row (grad[1]) --> features for last N points\n",
    "    # grad = (grad * 100).astype('int')\n",
    "    size = len(str(grad[0, 0]))\n",
    "    alinea = ' ' * (size // 2)\n",
    "    \n",
    "    print(f'{alinea}grad N_a theta_a{alinea}grad N_a theta_b')\n",
    "    print(grad[0, 0], grad[0, 1])\n",
    "    \n",
    "    print(f'{alinea}grad N_b theta_a{alinea}grad N_b theta_b')\n",
    "    print(grad[1, 0], grad[1, 1])\n",
    "    \n",
    "    print('\\n with each theta_a/b averaged out over points N_a/N_b')\n",
    "    print(grad.mean(2))\n",
    "    # print('std')\n",
    "    # print(grad.std(2))\n",
    "    \n",
    "    return grad\n",
    "\n",
    "def show_clusters(cluster):\n",
    "    # cluster : 2 x 2N\n",
    "    size = cluster.shape[1] // 2\n",
    "    cc = np.zeros((2, 2))\n",
    "    cc[0,0] = cluster[0, :size].mean()\n",
    "    cc[0,1] = cluster[0, size:].mean()\n",
    "    cc[1,0] = cluster[1, :size].mean()\n",
    "    cc[1,1] = cluster[1, size:].mean()  \n",
    "\n",
    "    print(cc.T) "
   ]
  },
  {
   "cell_type": "markdown",
   "metadata": {},
   "source": [
    "### CASE 1 \n",
    "Starting with a parameter combination we know works well"
   ]
  },
  {
   "cell_type": "code",
   "execution_count": 904,
   "metadata": {},
   "outputs": [],
   "source": [
    "cfg = {'mu_ts_a' : 3, 'mu_ts_b' : 3, 'mu_x': 0}\n",
    "out = trial(**cfg)"
   ]
  },
  {
   "cell_type": "code",
   "execution_count": 905,
   "metadata": {},
   "outputs": [],
   "source": [
    "X, y, M = out['dataset']['X'], out['dataset']['y'], out['M_grad']"
   ]
  },
  {
   "cell_type": "code",
   "execution_count": 906,
   "metadata": {
    "scrolled": true
   },
   "outputs": [
    {
     "name": "stdout",
     "output_type": "stream",
     "text": [
      "Accuracy :  1.0\n",
      "                        grad N_a theta_a                        grad N_a theta_b\n",
      "[-1.88 -1.67 -1.09 -3.84 -2.11 -1.43 -3.67 -3.39] [ 0.04 -0.27 -0.68  2.27 -0.6  -0.48 -0.18  0.57]\n",
      "                        grad N_b theta_a                        grad N_b theta_b\n",
      "[ 0.03  0.74  1.04 -0.53 -0.48  0.51  1.14 -0.33] [-3.18 -3.53 -3.86 -0.09 -3.11 -4.13 -2.48 -2.77]\n",
      "\n",
      " with each theta_a/b averaged out over points N_a/N_b\n",
      "[[-2.38  0.09]\n",
      " [ 0.26 -2.89]]\n",
      "\n",
      "K-Means Clusters\n",
      "[[-2.38  0.09]\n",
      " [ 0.26 -2.89]]\n"
     ]
    }
   ],
   "source": [
    "print('Accuracy : ', out['cluster_acc'])\n",
    "_ = show_grad(M)\n",
    "\n",
    "print('\\nK-Means Clusters')\n",
    "_ = show_clusters(out['clusters'])"
   ]
  },
  {
   "cell_type": "markdown",
   "metadata": {},
   "source": [
    "So in this setting : we have that a) the gradient induced for $\\theta_a$ and $\\theta_b$ is quite different and easy to cluster. Our K-means algo recovers almost exactly the true cluster"
   ]
  },
  {
   "cell_type": "markdown",
   "metadata": {},
   "source": [
    "### Case 2 \n",
    "Shifting the feature mean to 5, which we know doesn't work well"
   ]
  },
  {
   "cell_type": "code",
   "execution_count": 907,
   "metadata": {},
   "outputs": [],
   "source": [
    "cfg = {'mu_ts_a' : 3, 'mu_ts_b' : 3, 'mu_x': 5}\n",
    "out = trial(**cfg)"
   ]
  },
  {
   "cell_type": "code",
   "execution_count": 908,
   "metadata": {},
   "outputs": [],
   "source": [
    "X, y, M = out['dataset']['X'], out['dataset']['y'], out['M_grad']"
   ]
  },
  {
   "cell_type": "code",
   "execution_count": 909,
   "metadata": {},
   "outputs": [
    {
     "name": "stdout",
     "output_type": "stream",
     "text": [
      "Accuracy :  0\n",
      "                                grad N_a theta_a                                grad N_a theta_b\n",
      "[-696.09 -697.85 -701.14 -695.56 -699.02 -698.43 -699.43 -699.48] [-695.79 -695.2  -693.82 -694.41 -695.05 -693.91 -696.5  -694.37]\n",
      "                                grad N_b theta_a                                grad N_b theta_b\n",
      "[-661.3  -662.9  -664.56 -660.64 -663.55 -664.28 -662.93 -663.31] [-665.56 -666.64 -665.56 -664.63 -665.18 -668.73 -667.13 -667.33]\n",
      "\n",
      " with each theta_a/b averaged out over points N_a/N_b\n",
      "[[-698.37 -694.88]\n",
      " [-662.93 -666.34]]\n",
      "\n",
      "K-Means Clusters\n",
      "[[-697.1  -696.35]\n",
      " [-664.75 -664.57]]\n"
     ]
    }
   ],
   "source": [
    "print('Accuracy : ', out['cluster_acc'])\n",
    "_ = show_grad(M)\n",
    "\n",
    "print('\\nK-Means Clusters')\n",
    "_ = show_clusters(out['clusters'])"
   ]
  },
  {
   "cell_type": "markdown",
   "metadata": {},
   "source": [
    "Here, unlike the previous setting, 1) the clusters look very similar (there is no clear difference for theta_a and theta_b as we saw previously). Moreover, **there is more variation across N_a / N_b than across theta_a / theta_b** which is not what we want"
   ]
  },
  {
   "cell_type": "markdown",
   "metadata": {},
   "source": [
    "## Miscellaneous (disreguard)"
   ]
  },
  {
   "cell_type": "markdown",
   "metadata": {},
   "source": [
    "Regarding the first point : In your typical Linear Regression setting (no shenanigans with 2 sets of params and useless features), the expected gradient of your least squares loss is \n",
    "$$\n",
    "\\mathbb{E}_{x \\sim \\mathcal{N}(\\mu_x, \\Sigma)} \\  [\\nabla_\\theta \\mathcal{L} ] = (\\hat{\\theta} - \\theta^*)^T(\\mu_x^T\\mu_x + \\Sigma)\n",
    "$$"
   ]
  },
  {
   "cell_type": "markdown",
   "metadata": {},
   "source": [
    "If your X's are not zero-centered, then the outer product $(\\mu_x^T\\mu_x + I)$ becomes fully positive "
   ]
  }
 ],
 "metadata": {
  "kernelspec": {
   "display_name": "pytorch2",
   "language": "python",
   "name": "pytorch2"
  },
  "language_info": {
   "codemirror_mode": {
    "name": "ipython",
    "version": 3
   },
   "file_extension": ".py",
   "mimetype": "text/x-python",
   "name": "python",
   "nbconvert_exporter": "python",
   "pygments_lexer": "ipython3",
   "version": "3.9.6"
  }
 },
 "nbformat": 4,
 "nbformat_minor": 2
}
